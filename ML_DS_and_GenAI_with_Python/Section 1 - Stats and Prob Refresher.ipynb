{
 "cells": [
  {
   "cell_type": "markdown",
   "id": "a095e7d8-2a24-40d2-bc22-2243e833074b",
   "metadata": {},
   "source": [
    "## Types of Data\n",
    "<ins>**Major types of Data**</ins>:\n",
    "* **Numerical**: Represents some sort of quantitative measurement (page load times, stock prices, *etc.*).\n",
    "    * <ins>Two types of Numerical Data</ins>:\n",
    "        * <ins>Discrete Data</ins>: Integer based; Often counts of some event.\n",
    "            * *Ex.* How many purchases did a customer make in a year?\n",
    "            * *Ex.* How many times did I flip \"heads\"?\n",
    "        * <ins>Continuous Data</ins>: Decimal based; Has an infinite number of possible values.\n",
    "            * *Ex.* How much time did it take for a user to check out?\n",
    "            * *Ex.* How much rain fell on a given day?\n",
    "* **Categorical**: Qualitative data that has no inherent mathematical meaning.\n",
    "    * *Exs.* Gender, yes/no (binary data), race, state of residence, product category, political party, *etc.*\n",
    "    * You can assign numbers to categories in order to represent them more compactly, but the numbers don't have mathematical meaning.\n",
    "* **Ordinal**: A mix of numerical and categorical; Categorical data that has mathematical meaning.\n",
    "    * *Ex.* Movie ratings on a 1 - 5 scale (1 being the worst, 5 being the best)"
   ]
  },
  {
   "cell_type": "markdown",
   "id": "dbe4c232-98cd-42b2-a7c5-5f3761f15ff9",
   "metadata": {},
   "source": [
    "## Mean, Median, Mode\n"
   ]
  },
  {
   "cell_type": "markdown",
   "id": "86b90dfb-15bc-4f4c-807c-a6a4d1c07b13",
   "metadata": {},
   "source": []
  }
 ],
 "metadata": {
  "kernelspec": {
   "display_name": "Python 3 (ipykernel)",
   "language": "python",
   "name": "python3"
  },
  "language_info": {
   "codemirror_mode": {
    "name": "ipython",
    "version": 3
   },
   "file_extension": ".py",
   "mimetype": "text/x-python",
   "name": "python",
   "nbconvert_exporter": "python",
   "pygments_lexer": "ipython3",
   "version": "3.12.4"
  }
 },
 "nbformat": 4,
 "nbformat_minor": 5
}
