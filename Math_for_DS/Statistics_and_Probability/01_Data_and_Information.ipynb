{
 "cells": [
  {
   "cell_type": "markdown",
   "id": "31b68671-644f-4d76-a5c7-aca1f826a8a5",
   "metadata": {},
   "source": [
    "# Data and Information\n",
    "\n",
    "## Introduction to Statistics \n",
    "(From [Statistics for AI Data Science and Business Analysis - 2024](https://www.udemy.com/course/statistics-probability-for-data-science))\n",
    "\n",
    "**\"Data\"** and **\"information\"** are often used interchangeably, but they aren't the same.\n",
    "\n",
    "* **Data**: A collection of individual facts or statistics; Raw form of knowledge.\n",
    "    * <ins>Can be in various forms</ins>: Text, observations, figures, numbers, graphs, *etc.*\n",
    "    * <ins>Ex.</ins>: Individual prices, weights, addresses, ages, names, temperatures, dates, distances, *etc.*\n",
    "    * <ins>Types of Data</ins>:\n",
    "        * <ins>Quantitative Data</ins>: Deals with numerical data (*e.g.* salary, weight, *etc.*).\n",
    "        * <ins>Qualitative Data</ins>: Deals with non-numerical data (*e.g.* name, gender, *etc.*).\n",
    "* **Information**: Knowledge gained through study, communication, research, or instruction; Result of analyzing and interpreting pieces of data.\n",
    "    * <ins>Ex.</ins>\n",
    "        * <ins>Data</ins>: Temperature readings in a location.\n",
    "        * <ins>Information</ins>: Determine seasonal temperature patterns.\n",
    "\n",
    "### Differences between Data & Information\n",
    "Both are critical elements in business decision-making. Understanding how these components work together can help you move your business towards a more data- and insights-driven culture.\n",
    "\n",
    "| Data | Information |\n",
    "| :------:| :------:|\n",
    "| A collection of facts. | Puts facts into context. |\n",
    "| Raw and unorganized. | Organized. |\n",
    "| Data points are individual and sometimes unrelated. | Maps out data to provide a big-picture view of how it all fits together. |\n",
    "| Meaningless on its own. | When analyzed and interpreted, data becomes meaningful information. |\n",
    "| Doesn't depend on information. | Dependent on data. |\n",
    "| Typically comes in the form of graphs, numbers, figures, or statistics. | Typically presented through words, language, thoughts, and ideas. |\n",
    "| Insufficient for decision-making. | Sufficient for decision-making. |\n",
    "\n",
    "### What is Statistics?\n",
    "**Statistics**: The practice or science of collecting and analyzing numerical data in large quantities, especially for the purpose of inferring proportions in a whole from those in a representative sample.\n",
    "\n",
    "<ins>Why is Statistical Analysis important?</ins>\n",
    "* Helps us collect data by using proper methods and employing the right analysis.\n",
    "* Helps us conduct research and present the result effectively.\n",
    "* Finds the structures in data and make relevant predictions.\n",
    "* Apply statistical methods to build machine learning models."
   ]
  },
  {
   "cell_type": "markdown",
   "id": "b53951c0-8b62-49aa-93f1-66056dc6d142",
   "metadata": {},
   "source": [
    "## What are (is?) data?\n",
    "(From [Master statistics & machine learning: intuition, math, code](https://www.udemy.com/course/statsml_x))\n",
    "\n",
    "## Is \"data\" singular or plural ?!?!!?!\n"
   ]
  }
 ],
 "metadata": {
  "kernelspec": {
   "display_name": "Python 3 (ipykernel)",
   "language": "python",
   "name": "python3"
  },
  "language_info": {
   "codemirror_mode": {
    "name": "ipython",
    "version": 3
   },
   "file_extension": ".py",
   "mimetype": "text/x-python",
   "name": "python",
   "nbconvert_exporter": "python",
   "pygments_lexer": "ipython3",
   "version": "3.12.4"
  }
 },
 "nbformat": 4,
 "nbformat_minor": 5
}
