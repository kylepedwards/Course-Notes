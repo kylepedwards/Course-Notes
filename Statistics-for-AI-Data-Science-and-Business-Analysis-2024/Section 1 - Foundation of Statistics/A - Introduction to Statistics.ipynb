{
 "cells": [
  {
   "cell_type": "markdown",
   "id": "2f1693fe-7f19-47c2-9a57-e88d48f7a112",
   "metadata": {},
   "source": [
    "# Introduction to Statistics\n",
    "\n",
    "Objectives of this Unit:\n",
    "+ What is Data?\n",
    "+ What is Information?\n",
    "+ Difference between Data & Information\n",
    "+ Definition of Statistics\n",
    "+ Statistical Analysis\n",
    "+ Steps in Statistical Analysis\n",
    "+ Benefits of Statistical Analysis"
   ]
  },
  {
   "cell_type": "markdown",
   "id": "cf9892b2-1795-437f-a21d-5d2061ec67f3",
   "metadata": {},
   "source": [
    "## 'What is Data?' and 'What is Information?'\n",
    "* \"**Data**\" and \"**information**\" are often used interchangeably, but they aren't the same.\n",
    "* **Data**: A collection of individual facts or statistics; Raw form of knowledge.\n",
    "    * <ins>Can in various forms</ins>: text, observations, figures, numbers, graphs, *etc.*\n",
    "    * <ins>Examples</ins>: individual prices, weights, addresses, ages, names, temperatures, dates, *etc.*\n",
    "    * <ins>Types of Data</ins>:\n",
    "        * <ins>Quantitative Data</ins>: Numerical data (Eg: salary, weight, *etc.*)\n",
    "        * <ins>Qualitative Data</ins>: Non-numerical data (Eg. name, gender, *etc.*)\n",
    "* **Information**: Knowledge gained through study, communication, research, or instruction; Result of analyzing and interpreting pieces of data.\n",
    "    * <ins>Example</ins>:\n",
    "        * **Data**: Temperature readings in a location.\n",
    "        * **Information**: Determine seasonal temperature patterns."
   ]
  },
  {
   "cell_type": "markdown",
   "id": "5a21f637-10f4-44f5-b205-0fb485d65ec1",
   "metadata": {},
   "source": [
    "## Difference between Data & Information\n",
    "|    Data    |    Information    |\n",
    "| ---------- | ----------------- |\n",
    "|<ul><li>A collection of facts.</li><li>Raw and unorganized</li><li>Data points are individual and sometimes unrelated.</li><li>Meaningless on its own.</li><li>Doesn't depend on information.</li><li>Typically comes in the form of graphs, numbers, figures, or statistics.</li><li>Isn't sufficient for decision-making.</li></ul>|<ul><li>Puts data into context.</li><li>Organized.</li><li>Maps out data to provide a big-picture view of how it all fits together.</li><li>Data becomes meaningful information after analysis and interpretation.</li><li>Dependent on data.</li><li>Typically presented through words, language, thoughts, and ideas.</li><li>Sufficient for decision-making.</li></ul>|\n",
    "\n",
    "**Data** and **information** are both critical elements in business decision-making."
   ]
  },
  {
   "cell_type": "markdown",
   "id": "6b763482-5d5d-4ef3-a77d-cafcb851623b",
   "metadata": {},
   "source": [
    "## 'What is Statistics?' and 'Statistical Analysis'\n",
    "* **Statistics**: (Definition from Oxford Languages) The practice or science of collecting and analyzing numerical data in large quantities, especially for the purpose of inferring proportions in a whole from those in a representative sample.\n",
    "* **Statistical Analysis**: (Definition from [SAS Institute](https://www.sas.com/en_us/insights/analytics/statistical-analysis.html)) The science of collecting, exploring, and presenting large amounts of data to discover underlying patterns and trends."
   ]
  }
 ],
 "metadata": {
  "kernelspec": {
   "display_name": "Python 3 (ipykernel)",
   "language": "python",
   "name": "python3"
  },
  "language_info": {
   "codemirror_mode": {
    "name": "ipython",
    "version": 3
   },
   "file_extension": ".py",
   "mimetype": "text/x-python",
   "name": "python",
   "nbconvert_exporter": "python",
   "pygments_lexer": "ipython3",
   "version": "3.11.7"
  }
 },
 "nbformat": 4,
 "nbformat_minor": 5
}
