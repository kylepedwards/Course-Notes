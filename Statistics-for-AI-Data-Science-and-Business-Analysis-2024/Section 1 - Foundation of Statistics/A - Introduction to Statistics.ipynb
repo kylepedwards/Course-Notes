{
 "cells": [
  {
   "cell_type": "markdown",
   "id": "2f1693fe-7f19-47c2-9a57-e88d48f7a112",
   "metadata": {},
   "source": [
    "# Introduction to Statistics\n",
    "\n",
    "Objectives of this Unit:\n",
    "+ What is Data?\n",
    "+ What is Information?\n",
    "+ Difference between Data & Information\n",
    "+ Definition of Statistics\n",
    "+ Statistical Analysis\n",
    "+ Steps in Statistical Analysis\n",
    "+ Benefits of Statistical Analysis"
   ]
  },
  {
   "cell_type": "markdown",
   "id": "cf9892b2-1795-437f-a21d-5d2061ec67f3",
   "metadata": {},
   "source": []
  }
 ],
 "metadata": {
  "kernelspec": {
   "display_name": "Python 3 (ipykernel)",
   "language": "python",
   "name": "python3"
  },
  "language_info": {
   "codemirror_mode": {
    "name": "ipython",
    "version": 3
   },
   "file_extension": ".py",
   "mimetype": "text/x-python",
   "name": "python",
   "nbconvert_exporter": "python",
   "pygments_lexer": "ipython3",
   "version": "3.11.7"
  }
 },
 "nbformat": 4,
 "nbformat_minor": 5
}
