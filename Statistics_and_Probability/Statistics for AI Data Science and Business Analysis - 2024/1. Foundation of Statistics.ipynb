{
 "cells": [
  {
   "cell_type": "markdown",
   "id": "8c66f922-f41b-49c5-9082-979bf636d1d6",
   "metadata": {},
   "source": [
    "## Introduction to Statistics\n",
    "### What is Data and Information?\n",
    "\"Data\" and \"information\" are often used interchangeably, but that isn't the case.\n",
    "* <ins>**Data**</ins>: Defined as a collection of individual facts or statistics; Raw form of knowledge.\n",
    "    * <ins>**Can come in various forms**</ins>: text, observations, figures, numbers, graphs, *etc.*\n",
    "    * <ins>**Examples**</ins>: individual prices, weights, addresses, ages, names, temperatures, dates, distances, *etc.*\n",
    "    * <ins>**Types of Data**</ins>:\n",
    "        * <ins>Quantitative Data</ins>: Deals with numerical data. *Eg:* salary, weight, *etc.*\n",
    "        * <ins>Qualitative Data</ins>: Deals with non-numerical data. *Eg:* name, gender, *etc.*\n",
    "* <ins>**Information**</ins>: Defined as knowledge gained through study, communication, research, or instruction; Result of analyzing and interpreting pieces of data.\n",
    "    * <ins>**Examples**</ins>:\n",
    "        * <ins>Data</ins>: Temperature readings in a location.\n",
    "        * <ins>Information</ins>: Determine seasonal temperature patterns.\n",
    "### Differences between Data and Information?\n",
    "Both are critical elements in business decision-making. By understanding how these components work together, you can help move your business toward a more data- and insights-driven culture.\n",
    "\n",
    "| Data | Information |\n",
    "|:-----:|:-----:|\n",
    "| A collection of facts. | Puts facts into context. |\n",
    "| Raw and unorganized. | Organized |\n",
    "| Data points are individual and sometimes unrelated. | Maps out data in order to provide a big-picture view of how it all fits together. |\n",
    "| Meaningless on its own. | When analyzed and interpreted, data becomes meaningful information. |\n",
    "| Doesn't depend on information. | Dependent on data. |\n",
    "| Typically comes in the form of graphs, numbers, figures, or statistics. | Typically presented through words, language, thoughts, and ideas. |\n",
    "| Insufficient for decision-making. | Sufficient for decision-making. |\n",
    "\n",
    "### What is Statistics?\n",
    "<ins>**Statistics**</ins>: The practice or science of collecting and analyzing numerical data in large quantities, especially for the purpose of inferring proportions in a whole from those in a representative sample."
   ]
  },
  {
   "cell_type": "markdown",
   "id": "368e5e60-80d0-4330-a688-11e7f3f6f26f",
   "metadata": {},
   "source": []
  }
 ],
 "metadata": {
  "kernelspec": {
   "display_name": "Python 3 (ipykernel)",
   "language": "python",
   "name": "python3"
  },
  "language_info": {
   "codemirror_mode": {
    "name": "ipython",
    "version": 3
   },
   "file_extension": ".py",
   "mimetype": "text/x-python",
   "name": "python",
   "nbconvert_exporter": "python",
   "pygments_lexer": "ipython3",
   "version": "3.12.4"
  }
 },
 "nbformat": 4,
 "nbformat_minor": 5
}
