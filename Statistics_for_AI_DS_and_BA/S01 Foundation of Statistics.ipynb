{
 "cells": [
  {
   "cell_type": "markdown",
   "id": "5899e2e6-57e0-4562-a68f-f7ca222b7532",
   "metadata": {},
   "source": [
    "# Introduction to Statistics\n",
    "## Data and Information\n",
    "\"Data\" and \"information\" are often used interchangeably, but they aren't the same.\n",
    "\n",
    "* <ins>**Data**</ins>:\n",
    "    * Defined as a collection of individual facts or statistics; Raw form of knowledge.\n",
    "    * <ins>**Can come in various forms**</ins>: Text, observations, figures, numbers, graphs, *etc.*\n",
    "    * <ins>Examples</ins>: individual prices, weights, addresses, ages, names, temperatures, dates, *etc.*\n",
    "    * <ins>Types of Data</ins>:\n",
    "        * <ins>**Quantitative Data**</ins>: Deals with numerical data (e.g. salary, weight, *etc.*).\n",
    "        * <ins>**Qualitative Data**</ins>: Deals with non-numerical data (e.g. name, gender, *etc.*).\n",
    "* <ins>**Information**</ins>: \n",
    "    * Defined as knowledge gained through study, communication, research, or instruction; Result of analyzing and interpreting pieces of data.\n",
    "    * <ins>Examples</ins>:\n",
    "        * **Data**: Temperature readings in a location.\n",
    "        * **Information**: Determine seasonal temperature patterns.\n",
    "\n",
    "### Differences between Data and Information\n",
    "Both are critical for business decision-making.\n",
    "\n",
    "| **Data** | **Information** |\n",
    "| :-----: | :-----: |\n",
    "| A collection of facts. | Puts facts into context. |\n",
    "| Raw and unorganized. | Organized. |\n",
    "| Individual and sometimes unrelated. | Maps out data to provide a big-picture view of how it all fits together. |\n",
    "| Meaningless on its own. | After analysis and interpretation, data becomes meaningful information. |\n",
    "| Doesn't depend on information. | Depends on data. |\n",
    "| Typically comes in the form of graphs, numbers, figures, or statistics. | Typically presented through words, language, thoughts, and ideas. |\n",
    "| Insufficient for decision-making. | Sufficient for decision-making. |\n",
    "\n",
    "## Statistics & Statistical Analysis\n",
    "From [Quora's Bot](https://www.quora.com/What-is-the-difference-between-statistics-and-statistical):\n",
    "\n",
    ">\"Statistics\" and \"statistical\" are related terms but have different meanings:\n",
    ">\n",
    ">    1. **Statistics**: Statistics is a field of study that involves collecting, analyzing, interpreting, presenting, and organizing data. It deals with the methods for collecting, summarizing, and interpreting data to make decisions and draw conclusions. Statistics involves techniques such as hypothesis testing, regression analysis, and probability theory.\n",
    ">    \n",
    ">    2. **Statistical**: \"Statistical\" is an adjective that refers to something related to statistics. For example, \"statistical analysis\" means the analysis of data using statistical methods, \"statistical inference\" refers to drawing conclusions from data using statistical techniques, and \"statistical significance\" indicates the likelihood that a result is not due to chance. \n",
    ">    \n",
    ">    \"In summary, \"statistics\" is the broader field of study, while \"statistical\" is an adjective used to describe things related to statistics or statistical methods.\"\n",
    "\n",
    "### Why Statistical Analysis is important?\n",
    "* Helps us collect data using the proper methods, and employing the correct analysis.\n",
    "* Helps us conduct research and present the result effectively.\n",
    "* Find the structures in data and make the relevant predictions.\n",
    "* Apply statistical methods to build machine learning models."
   ]
  },
  {
   "cell_type": "markdown",
   "id": "eb3037dc-4fee-459c-aa55-a1d7a1f8d13e",
   "metadata": {},
   "source": [
    "## Types of Statistical Analysis\n",
    "\n",
    "* <ins>**Descriptive Statistics**</ins>: Helps us summarize data.\n",
    "    * \n",
    "* <ins>**Inferential Statistics**</ins>: Helps us make inferences and predictions about a **population** based on a **sample**.\n",
    "    * \n"
   ]
  },
  {
   "cell_type": "code",
   "execution_count": null,
   "id": "96a96f2f-0f93-4a09-b68b-5933c8aa2ab7",
   "metadata": {},
   "outputs": [],
   "source": []
  }
 ],
 "metadata": {
  "kernelspec": {
   "display_name": "Python 3 (ipykernel)",
   "language": "python",
   "name": "python3"
  },
  "language_info": {
   "codemirror_mode": {
    "name": "ipython",
    "version": 3
   },
   "file_extension": ".py",
   "mimetype": "text/x-python",
   "name": "python",
   "nbconvert_exporter": "python",
   "pygments_lexer": "ipython3",
   "version": "3.11.7"
  }
 },
 "nbformat": 4,
 "nbformat_minor": 5
}
