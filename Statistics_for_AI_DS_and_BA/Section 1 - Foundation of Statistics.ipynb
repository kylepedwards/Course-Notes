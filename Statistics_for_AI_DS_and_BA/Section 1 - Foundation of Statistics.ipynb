{
 "cells": [
  {
   "cell_type": "markdown",
   "id": "89013699-e2a1-4ff5-93dc-0b34d8a1693d",
   "metadata": {},
   "source": [
    "## 1. Introduction to Statistics\n",
    "\n",
    "**\"Data\"** and **\"information\"** are often used interchangeably, but there are subtle differences between these two.\n",
    "\n",
    "* <ins>**Data**</ins>: Defined as a collection of individual facts or statistics; Raw form of knowledge.\n",
    "    * <ins>Can come in various forms</ins>: text, observations, figures, numbers, graphs, *etc.*\n",
    "        * <ins>Examples</ins>: individual prices, weights, addresses, ages, names, temperatures, *etc.*\n",
    "    * <ins>Types of Data</ins>:\n",
    "        * <ins>Quantitative Data</ins>: Deals with numerical data (*e.g.* salary, weight, *etc.*).\n",
    "        * <ins>Qualitative Data</ins>: Deals with non-numerical data (*e.g.* name, gender, *etc.*).\n",
    "* <ins>**Information**</ins>: Defined as knowledge gained through study, communication, research, or instruction; Result of analyzing and interpreting pieces of data.\n",
    "    * <ins>Examples</ins>:\n",
    "        * <ins>Data</ins>: Temperature readings in a location.\n",
    "        * <ins>Information</ins>: Determine seasonal temperature patterns.\n",
    "\n",
    "### Difference between Data & Information\n",
    "**Data** and **information** are both critical elements in business decision-making. By understanding how these components work together, you can move your business toward a more data- and insights-driven culture.\n",
    "\n",
    "| **Data** | **Information** |\n",
    "| :-----: | :-----: |\n",
    "| A collection of facts. | Puts facts into context. |\n",
    "| Raw and unorganized. | Organized. |\n",
    "| Data points are individual and sometimes unrelated. | Maps out data to provide a big-picture view of how it all fits together. |\n",
    "| Meaningless on its own. | Data becomes meaningful information after analysis and interpretation. |\n",
    "| Doesn't depend on information. | Dependent on data. |\n",
    "| Typically comes in the form of graphs, numbers, figures, or statistics. | Typically presented through words, language, thoughts, and ideas. |\n",
    "| Insufficient for decision-making. | Sufficient for decision-making. |\n",
    "\n",
    "### What is Statistics?\n",
    "**Statistics**: (from [Wikipedia](https://en.wikipedia.org/wiki/Statistics)) The discipline that concerns the collection, organization, analysis, interpretation, and presentation of data. "
   ]
  },
  {
   "cell_type": "markdown",
   "id": "faafbd39-4a5f-4586-ab78-8efaa2a281fb",
   "metadata": {},
   "source": [
    "## 2. Types of Statistical Analysis\n",
    "\n"
   ]
  },
  {
   "cell_type": "markdown",
   "id": "2bab761d-6c96-43eb-947d-766568eb992a",
   "metadata": {},
   "source": []
  }
 ],
 "metadata": {
  "kernelspec": {
   "display_name": "Python 3 (ipykernel)",
   "language": "python",
   "name": "python3"
  },
  "language_info": {
   "codemirror_mode": {
    "name": "ipython",
    "version": 3
   },
   "file_extension": ".py",
   "mimetype": "text/x-python",
   "name": "python",
   "nbconvert_exporter": "python",
   "pygments_lexer": "ipython3",
   "version": "3.12.4"
  }
 },
 "nbformat": 4,
 "nbformat_minor": 5
}
