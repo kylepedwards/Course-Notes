{
 "cells": [
  {
   "cell_type": "markdown",
   "id": "5e4eba29-2661-43ea-a03d-b644cec965e4",
   "metadata": {},
   "source": [
    "## 1. Introduction to Statistics\n",
    "\n",
    "**\"Data\"** and **\"information\"** are often used interchangeably, but there are subtle differences between these components and their purpose.\n",
    "\n",
    "* <ins>**Data**</ins>: A collection of individual facts or statistics; Raw form of knowledge.\n",
    "    * <ins>Can come in various forms</ins>: text, observation, figures, numbers, graphs, *etc.*\n",
    "        * <ins>Examples</ins>: Individual prices, weights, addresses, names, temperatures, dates, distances, *etc.*\n",
    "    * <ins>Types of Data</ins>:\n",
    "        * <ins>Quantitative Data</ins>: Deals with numerical data (*eg.* salary, weight, *etc.*).\n",
    "        * <ins>Qualitative Data</ins>: Deals with non-numerical data (*eg.* name, generator, *etc.*).\n",
    "* <ins>**Information**</ins>: Knowledge gained through study, communication, research, or instruction; Result of analyzing and interpreting pieces of data.\n",
    "    * <ins>Examples</ins>:\n",
    "        * <ins>Data</ins>: Temperature readings in a location.\n",
    "        * <ins>Information</ins>: Determine seasonal temperature patterns.\n",
    "\n",
    "#### Differences between Data & Information\n",
    "| **Data** | **Information** |\n",
    "| :-----: | :-----: |\n",
    "| A collection of facts. | Puts facts into context. |\n",
    "| Raw and unorganized. | Organized. |\n",
    "| Data points are individual and sometimes unrelated. | Maps out data to provide a big-picture view of how it all fits together. |\n",
    "| Meaningless on its own. | Data becomes meaningful information after analysis and interpretation. |\n",
    "| Doesn't depend on information. | Dependent on data. |\n",
    "| Typically comes in the form of graphs, numbers, figures, or statistics. | Typically presented through words, language, thoughts, and ideas. |\n",
    "| Insufficient for decision-making. | Sufficient for decision-making. |\n",
    "\n",
    "Both **data** and **information** are critical elements in business decision-making. Understanding how these components work together, you can move your business toward a more data- and insights-driven culture.\n",
    "\n",
    "#### What is Statistics?\n",
    "<ins>**Statistics**</ins>: From [University of California - Irvine](https://www.stat.uci.edu/what-is-statistics/):\n",
    "> \"Statistics is the science concerned with developing and studying methods for collecting, analyzing, interpreting and presenting empirical data. Statistics is a highly interdisciplinary field; research in statistics finds applicability in virtually all scientific fields and research questions in the various scientific fields motivate the development of new statistical methods and theory. In developing methods and studying the theory that underlies the methods statisticians draw on a variety of mathematical and computational tools.\"\n",
    "\n",
    "\n",
    "#### Bonus: 'Data is...' or 'Data are...'\n",
    "<ins>Articles to read</ins>:\n",
    "* [Thesaurus.com](https://www.thesaurus.com/e/grammar/data-is-or-data-are/)\n",
    "* The British Medical Journal\n",
    "    * BMJ article - [abstract](https://www.bmj.com/content/380/bmj.p529)\n",
    "    * BMJ article - [full](https://www.bmj.com/content/bmj/380/bmj.p529.full.pdf)\n",
    "\n",
    "<ins>Quick summary from [Thesaurus.com](https://www.thesaurus.com/e/grammar/data-is-or-data-are/)</ins>:\n",
    "> \"The word data can be either singular or plural depending on meaning and context. In general usage, data is treated as singular when used as a mass noun to mean “information” and as plural when used to mean “individual facts.” In scientific and academic writing, data is almost always used as a plural noun. In digital technology, data is usually treated as a singular mass noun to mean “digitally stored information.” "
   ]
  },
  {
   "cell_type": "markdown",
   "id": "f5de3af0-1ca3-42b5-ba04-4be67e220722",
   "metadata": {},
   "source": [
    "## 2. Types of Statistical Analysis \n",
    "\n",
    "* <ins>**Descriptive Statistics**</ins>: A branch of statistics that summarizes/describes data.\n",
    "    * <ins>A few brances in Descriptive Statistics</ins>:\n",
    "        * <ins>Measures of Central Tendency</ins>: Describes the center of the dataset (**mean**, **median**, **mode**); Measures the most common patterns of the analyzed dataset; Doesn't describe how the data is distributed within the set.\n",
    "        * <ins>Measures of Variability</ins>: aka Measures of Spread; Describes the dispersion of the dataset (**variance**, **standard deviation**, **minimum** and **maximum variables**, **kurtosis**, **skewness**). \n",
    "* <ins>**Inferential Statistics**</ins>: A branch of statistics that makes inferences/predictions about a **population** based on its **sample**.\n",
    "    * <ins>[Population](https://www.investopedia.com/terms/p/population.asp)</ins>: A statistical term that designates the pool from which a **sample** is drawn for a study; Any selection grouped by a common feature can be considered a **population**; **Note**: The term \"individual\" doesn't always mean a person in statistics. An individual is a single entity in the group being studied.\n",
    "    * <ins>[Sample](https://www.investopedia.com/terms/s/sample.asp)</ins>: A representative subset of a **population**; Selected based on [sampling methods](https://www.khanacademy.org/math/statistics-probability/designing-studies/sampling-methods-stats/a/sampling-methods-review); A correctly-chosen sample will have most of the information about the **population**.\n",
    "        * <ins>**Steps in Inferential Analysis**</ins>:\n",
    "            1. Determine Population\n",
    "            2. Sampling\n",
    "            3. Data Analysis\n",
    "            4. Decision making for the entire population"
   ]
  },
  {
   "cell_type": "markdown",
   "id": "0defaf34-0b9a-4dde-8e93-22159b8ac8d4",
   "metadata": {},
   "source": [
    "## 3. How Statistics and Machine Learning are Related"
   ]
  },
  {
   "cell_type": "code",
   "execution_count": null,
   "id": "a709f630-959c-4cfd-9043-d860b28fdb60",
   "metadata": {},
   "outputs": [],
   "source": []
  }
 ],
 "metadata": {
  "kernelspec": {
   "display_name": "Python 3 (ipykernel)",
   "language": "python",
   "name": "python3"
  },
  "language_info": {
   "codemirror_mode": {
    "name": "ipython",
    "version": 3
   },
   "file_extension": ".py",
   "mimetype": "text/x-python",
   "name": "python",
   "nbconvert_exporter": "python",
   "pygments_lexer": "ipython3",
   "version": "3.12.4"
  }
 },
 "nbformat": 4,
 "nbformat_minor": 5
}
