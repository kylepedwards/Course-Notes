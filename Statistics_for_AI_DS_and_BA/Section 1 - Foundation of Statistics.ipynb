{
 "cells": [
  {
   "cell_type": "markdown",
   "id": "5e4eba29-2661-43ea-a03d-b644cec965e4",
   "metadata": {},
   "source": [
    "## 1. Introduction to Statistics\n",
    "\n",
    "**\"Data\"** and **\"information\"** are often used interchangeably, but there are subtle differences between these components and their purpose.\n",
    "\n",
    "* <ins>**Data**</ins>: A collection of individual facts or statistics; Raw form of knowledge.\n",
    "    * <ins>Can come in various forms</ins>: text, observation, figures, numbers, graphs, *etc.*\n",
    "        * <ins>Examples</ins>: Individual prices, weights, addresses, names, temperatures, dates, distances, *etc.*\n",
    "    * <ins>Types of Data</ins>:\n",
    "        * <ins>Quantitative Data</ins>: Deals with numerical data (*eg.* salary, weight, *etc.*).\n",
    "        * <ins>Qualitative Data</ins>: Deals with non-numerical data (*eg.* name, generator, *etc.*).\n",
    "* <ins>**Information**</ins>: Knowledge gained through study, communication, research, or instruction; Result of analyzing and interpreting pieces of data.\n",
    "    * <ins>Examples</ins>:\n",
    "        * <ins>Data</ins>: Temperature readings in a location.\n",
    "        * <ins>Information</ins>: Determine seasonal temperature patterns.\n",
    "\n",
    "#### Differences between Data & Information\n",
    "| **Data** | **Information** |\n",
    "| :-----: | :-----: |\n",
    "| A collection of facts. | Puts facts into context. |\n",
    "| Raw and unorganized. | Organized. |\n",
    "| Data points are individual and sometimes unrelated. | Maps out data to provide a big-picture view of how it all fits together. |\n",
    "| Meaningless on its own. | Data becomes meaningful information after analysis and interpretation. |\n",
    "| Doesn't depend on information. | Dependent on data. |\n",
    "| Typically comes in the form of graphs, numbers, figures, or statistics. | Typically presented through words, language, thoughts, and ideas. |\n",
    "| Insufficient for decision-making. | Sufficient for decision-making. |\n",
    "\n",
    "Both **data** and **information** are critical elements in business decision-making. Understanding how these components work together, you can move your business toward a more data- and insights-driven culture.\n",
    "\n",
    "#### What is Statistics?\n",
    "<ins>**Statistics**</ins>: From [University of California - Irvine](https://www.stat.uci.edu/what-is-statistics/):\n",
    "> \"Statistics is the science concerned with developing and studying methods for collecting, analyzing, interpreting and presenting empirical data. Statistics is a highly interdisciplinary field; research in statistics finds applicability in virtually all scientific fields and research questions in the various scientific fields motivate the development of new statistical methods and theory. In developing methods and studying the theory that underlies the methods statisticians draw on a variety of mathematical and computational tools.\"\n",
    "\n",
    "\n",
    "#### Bonus: 'Data is...' or 'Data are...'\n",
    "<ins>Articles to read</ins>:\n",
    "* [Thesaurus.com](https://www.thesaurus.com/e/grammar/data-is-or-data-are/)\n",
    "* The British Medical Journal\n",
    "    * BMJ article - [abstract](https://www.bmj.com/content/380/bmj.p529)\n",
    "    * BMJ article - [full](https://www.bmj.com/content/bmj/380/bmj.p529.full.pdf)\n",
    "\n",
    "<ins>Quick summary from [Thesaurus.com](https://www.thesaurus.com/e/grammar/data-is-or-data-are/)</ins>:\n",
    "> \"The word data can be either singular or plural depending on meaning and context. In general usage, data is treated as singular when used as a mass noun to mean “information” and as plural when used to mean “individual facts.” In scientific and academic writing, data is almost always used as a plural noun. In digital technology, data is usually treated as a singular mass noun to mean “digitally stored information.” "
   ]
  },
  {
   "cell_type": "markdown",
   "id": "f5de3af0-1ca3-42b5-ba04-4be67e220722",
   "metadata": {},
   "source": [
    "## 2. Types of Statistical Analysis \n",
    "\n",
    "* <ins>**Descriptive Statistics**</ins>:\n",
    "    * \n",
    "* <ins>**Inferential Statistics**</ins>:\n",
    "    * "
   ]
  }
 ],
 "metadata": {
  "kernelspec": {
   "display_name": "Python 3 (ipykernel)",
   "language": "python",
   "name": "python3"
  },
  "language_info": {
   "codemirror_mode": {
    "name": "ipython",
    "version": 3
   },
   "file_extension": ".py",
   "mimetype": "text/x-python",
   "name": "python",
   "nbconvert_exporter": "python",
   "pygments_lexer": "ipython3",
   "version": "3.12.4"
  }
 },
 "nbformat": 4,
 "nbformat_minor": 5
}
