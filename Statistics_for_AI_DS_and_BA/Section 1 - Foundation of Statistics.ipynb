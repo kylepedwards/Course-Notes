{
 "cells": [
  {
   "cell_type": "markdown",
   "id": "220c68d4-ab9f-4c21-845a-b50541a41a4b",
   "metadata": {},
   "source": [
    "## Introduction to Statistics\n",
    "\n",
    "**\"Data\"** and **\"information\"** are often used interchangeably, but they aren't the same\n",
    "* <ins>**Data**</ins>: Defined as a collection of individual facts or statistics; Raw form of knowledge.\n",
    "    * <ins>Can come in various forms</ins>: text, observations, figures, numbers, graphs, *etc.*\n",
    "    * <ins>Exs.</ins>: Individual prices, weights, addresses, ages, names, temperatures, dates, distances, *etc.*\n",
    "    * <ins>**Types of Data**</ins>:\n",
    "        * <ins>**Quantitative Data**</ins>: Deals with numerical data (*eg.* salary, weight, *etc.*).\n",
    "        * <ins>**Qualitative Data**</ins>: Deals with non-numerical data (*eg.* name, gender, *etc.*).\n",
    "* <ins>**Information**</ins>: Defined as knowledge gained through study, communication, research, or instruction; Result of analyzing and interpreting pieces of data.\n",
    "    * <ins>Exs.</ins>:\n",
    "        * <ins>Data</ins>: Temperature readings in a location.\n",
    "        * <ins>Information</ins>: Determine seasonal temperature patterns.\n",
    "\n",
    "### Differences between Data & Information\n",
    "| Data | Information |\n",
    "| :-----: | :-----: |\n",
    "| A collection of facts. | Puts facts into context. |\n",
    "| Raw and unorganized. | Organized. |\n",
    "| Data points are individual and sometimes unrelated. | Maps out data to provide a big-picture view of how it all fits together. |\n",
    "| Meaningless on its own. | When analyzed and interpreted, data becomes meaningful information. |\n",
    "| Doesn't depend on information. | Depends on data. |\n",
    "| Typically comes in the form of graphs, numbers, figures, or statistics. | Typically presented through words, language, thoughts, and ideas. |\n",
    "| Insufficient for decision-making. | Sufficient for decision-making. |\n",
    "\n",
    "Both are critical elements in business decision-making. Understanding how these components work together can help you move your business towards a more data- and insights-driven culture.\n",
    "\n",
    "### What is Statistics?\n",
    "**Statistics** is the practice or science of collecting and analyzing numerical data in large quantities, especially for the purpose of inferring proportions in a whole from those in a representative sample.\n",
    "\n",
    "#### Statistical Analysis:\n",
    "To quote [Quora Bot](https://www.quora.com/What-is-the-difference-between-statistics-and-statistical):\n",
    "> \"The main difference between \"statistics\" and \"statistical\" is:\n",
    ">\n",
    ">Statistics refers to the field of study that deals with the collection, analysis, interpretation, presentation, and organization of data. It involves the use of mathematical and computational techniques to gain insights from data.\n",
    ">\n",
    ">Statistical, on the other hand, is an adjective that describes something related to or involving statistics. For example:\n",
    ">\n",
    ">    A statistical analysis uses statistical methods to analyze data.\n",
    ">    A statistical model is a mathematical model that incorporates statistical techniques.\n",
    ">    Statistical significance refers to the likelihood that an observed result did not occur by chance.\n",
    ">\n",
    ">In summary, \"statistics\" is the academic discipline, while \"statistical\" is an adjective describing something connected to or derived from the principles and methods of the field of statistics.\"\n",
    "\n",
    "#### Why Statistical Analysis is important?\n",
    "1. Helps us collect the data using proper methods and employing the correct analysis.\n",
    "2. Helps us conduct research and present the result(s) effectively.\n",
    "3. Find the structures in data and make the relevant predictions.\n",
    "4. Apply statistical methods in order to build machine learning models."
   ]
  },
  {
   "cell_type": "markdown",
   "id": "6a222e57-a94d-4d6b-9622-d3fd8f97967b",
   "metadata": {},
   "source": [
    "## Types of Statistical Analysis \n",
    "<ins>**Two main brances of Statistics**</ins>:\n",
    "* <ins>**Descriptive Statistics**</ins>: Helps us summarize data.\n",
    "    * <ins>**Measures of Central Tendency**</ins>: Describes the center position of a distribution for a dataset.\n",
    "        * Analyze the frequency of each data point in the distribution and describe it by using **mean**, **median**, or **mode**, which measures the most common patterns of the analyzed dataset.\n",
    "            * <ins>Example</ins>: The sum of the following dataset is 20: (2,3,4,5,6)\n",
    "                * **Mean**: 4 (20/5)\n",
    "                * **Median**: 4 \n",
    "                * **Mode**: Null (no recurring value)\n",
    "    * <ins>**Measures of Variability**</ins>: Aids in analyzing how dispersed the distribution is for a dataset (aka **Measures of Spread**).\n",
    "        * Includes **standard deviation**, **variance**, **minimum** and **maximum variables**, **kurtosis**, and **skewness**.\n",
    "        * \n",
    "* <ins>**Inferential Statistics**</ins>: Helps us make inferences and predictions about a **population** based on its **sample**.\n",
    "    * "
   ]
  },
  {
   "cell_type": "markdown",
   "id": "ad9c055a-3478-4bdd-803a-e233a71fb36a",
   "metadata": {},
   "source": [
    "## Understanding the Types of Data\n"
   ]
  },
  {
   "cell_type": "code",
   "execution_count": null,
   "id": "5dc9ce0f-c231-4beb-8cb8-28091db644e5",
   "metadata": {},
   "outputs": [],
   "source": []
  }
 ],
 "metadata": {
  "kernelspec": {
   "display_name": "Python 3 (ipykernel)",
   "language": "python",
   "name": "python3"
  },
  "language_info": {
   "codemirror_mode": {
    "name": "ipython",
    "version": 3
   },
   "file_extension": ".py",
   "mimetype": "text/x-python",
   "name": "python",
   "nbconvert_exporter": "python",
   "pygments_lexer": "ipython3",
   "version": "3.12.4"
  }
 },
 "nbformat": 4,
 "nbformat_minor": 5
}
